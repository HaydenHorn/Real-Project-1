{
 "cells": [
  {
   "cell_type": "markdown",
   "id": "654913b6",
   "metadata": {},
   "source": [
    "# Hayden Horn "
   ]
  },
  {
   "cell_type": "markdown",
   "id": "3a22bbbf",
   "metadata": {},
   "source": [
    "# 10/14/21 Bellarmine- Computer Science"
   ]
  },
  {
   "cell_type": "code",
   "execution_count": 21,
   "id": "3b1bf82b",
   "metadata": {},
   "outputs": [
    {
     "name": "stdout",
     "output_type": "stream",
     "text": [
      "Rock, Paper, or Scissors? Rock\n",
      "You win Rock beats Scissors\n"
     ]
    }
   ],
   "source": [
    "from random import randint\n",
    "#x is possible selections the computer and person.\n",
    "x= [\"Rock\", \"Paper\",\"Scissors\"]\n",
    "#R is the random choice by cpu\n",
    "R=x[randint(0,2)]\n",
    "player=False\n",
    "while player==False:\n",
    "    player=input(\"Rock, Paper, or Scissors? \")\n",
    "    #If player and Computer both choose the same object, it will automatically tell audience they tied.\n",
    "    if player==R:\n",
    "        print(\"Draw\")\n",
    "    elif player ==\"Rock\":\n",
    "        if R==\"paper\":\n",
    "            print(\"You Lose\", R, \"beats\",player)\n",
    "        else:\n",
    "            print(\"You win\", player, \"beats\", R)\n",
    "    elif player==\"Paper\":\n",
    "        if R==\"Scissors\":\n",
    "            print(\"You Lose\", R, \"beats\",player)\n",
    "        else:\n",
    "            print(\"You win\",player,\"beats\",R)\n",
    "    elif player==\"Scissors\":\n",
    "        if R==\"Rock\":\n",
    "            print(\"You Lose\",R,\"beats\",player)\n",
    "        else:\n",
    "            print(\"You win\",player,\"beats\",R)\n",
    "    else:\n",
    "        print(\"\")"
   ]
  },
  {
   "cell_type": "code",
   "execution_count": null,
   "id": "bd8fbabf",
   "metadata": {},
   "outputs": [],
   "source": []
  },
  {
   "cell_type": "code",
   "execution_count": null,
   "id": "dad0c5a5",
   "metadata": {},
   "outputs": [],
   "source": []
  }
 ],
 "metadata": {
  "kernelspec": {
   "display_name": "Python 3",
   "language": "python",
   "name": "python3"
  },
  "language_info": {
   "codemirror_mode": {
    "name": "ipython",
    "version": 3
   },
   "file_extension": ".py",
   "mimetype": "text/x-python",
   "name": "python",
   "nbconvert_exporter": "python",
   "pygments_lexer": "ipython3",
   "version": "3.8.8"
  }
 },
 "nbformat": 4,
 "nbformat_minor": 5
}
